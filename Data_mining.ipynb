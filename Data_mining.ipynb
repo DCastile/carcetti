{
 "cells": [
  {
   "cell_type": "markdown",
   "metadata": {},
   "source": [
    "# Data cleaning/mining and feature engineering"
   ]
  },
  {
   "cell_type": "code",
   "execution_count": 1,
   "metadata": {
    "collapsed": false
   },
   "outputs": [],
   "source": [
    "%matplotlib inline\n",
    "# from IPython.core.interactiveshell import InteractiveShell\n",
    "# InteractiveShell.ast_node_interactivity = \"all\"\n",
    "from IPython.display import display\n",
    "\n",
    "# Std Lib\n",
    "import re\n",
    "# from datetime import date\n",
    "from datetime import datetime\n",
    "\n",
    "# 3rd Party\n",
    "import pandas as pd\n",
    "import pylab as plt\n",
    "import seaborn as sns"
   ]
  },
  {
   "cell_type": "code",
   "execution_count": 2,
   "metadata": {
    "collapsed": false
   },
   "outputs": [
    {
     "name": "stdout",
     "output_type": "stream",
     "text": [
      "Baltimore_City_Employee_Salaries_FY2012.csv\r\n",
      "Baltimore_City_Employee_Salaries_FY2013.csv\r\n",
      "Baltimore_City_Employee_Salaries_FY2014.csv\r\n",
      "Baltimore_City_Employee_Salaries_FY2015.csv\r\n",
      "Baltimore_City_Employee_Salaries_FY2016.csv\r\n",
      "Data_mining.ipynb\r\n",
      "README.md\r\n",
      "all.csv\r\n"
     ]
    }
   ],
   "source": [
    "!ls"
   ]
  },
  {
   "cell_type": "markdown",
   "metadata": {},
   "source": [
    "## Data Cleaning"
   ]
  },
  {
   "cell_type": "code",
   "execution_count": 3,
   "metadata": {
    "collapsed": false
   },
   "outputs": [],
   "source": [
    "# data = pd.read_csv('Baltimore_City_Employee_Salaries_FY2015.csv')\n",
    "\n",
    "# file_names = ['Baltimore_City_Employee_Salaries_FY201%s.csv'%x for x in range(2, 7)]\n",
    "# # display(data)\n",
    "\n",
    "# data = pd.DataFrame()\n",
    "# for furl in file_names:\n",
    "#     data = data.append(pd.read_csv(furl), ignore_index=True)\n",
    "\n",
    "data = pd.read_csv('all.csv')"
   ]
  },
  {
   "cell_type": "code",
   "execution_count": 4,
   "metadata": {
    "collapsed": false
   },
   "outputs": [],
   "source": [
    "# for now just drop the na values that are in the gross pay. we can find an appropriate value for them later\n",
    "data = data.dropna()"
   ]
  },
  {
   "cell_type": "code",
   "execution_count": 5,
   "metadata": {
    "collapsed": false
   },
   "outputs": [
    {
     "data": {
      "text/html": [
       "<div>\n",
       "<table border=\"1\" class=\"dataframe\">\n",
       "  <thead>\n",
       "    <tr style=\"text-align: right;\">\n",
       "      <th></th>\n",
       "      <th>﻿SurveyYear</th>\n",
       "      <th>Name</th>\n",
       "      <th>JobTitle</th>\n",
       "      <th>AgencyID</th>\n",
       "      <th>Agency</th>\n",
       "      <th>HireDate</th>\n",
       "      <th>AnnualSalaryMoney</th>\n",
       "      <th>GrossPayMoney</th>\n",
       "      <th>AnnualSalary</th>\n",
       "      <th>GrossPay</th>\n",
       "    </tr>\n",
       "  </thead>\n",
       "  <tbody>\n",
       "    <tr>\n",
       "      <th>0</th>\n",
       "      <td>2012</td>\n",
       "      <td>Aaron,Patricia G</td>\n",
       "      <td>Facilities/Office Services II</td>\n",
       "      <td>A03031</td>\n",
       "      <td>OED-Employment Dev</td>\n",
       "      <td>10/24/79</td>\n",
       "      <td>$51,862.00</td>\n",
       "      <td>$52,247.39</td>\n",
       "      <td>51862.0</td>\n",
       "      <td>52247.39</td>\n",
       "    </tr>\n",
       "    <tr>\n",
       "      <th>1</th>\n",
       "      <td>2012</td>\n",
       "      <td>Aaron,Petra L</td>\n",
       "      <td>ASSISTANT STATE'S ATTORNEY</td>\n",
       "      <td>A29005</td>\n",
       "      <td>States Attorneys Office</td>\n",
       "      <td>9/25/06</td>\n",
       "      <td>$64,000.00</td>\n",
       "      <td>$59,026.81</td>\n",
       "      <td>64000.0</td>\n",
       "      <td>59026.81</td>\n",
       "    </tr>\n",
       "    <tr>\n",
       "      <th>2</th>\n",
       "      <td>2012</td>\n",
       "      <td>Abaineh,Yohannes T</td>\n",
       "      <td>EPIDEMIOLOGIST</td>\n",
       "      <td>A65026</td>\n",
       "      <td>HLTH-Health Department</td>\n",
       "      <td>7/23/09</td>\n",
       "      <td>$57,900.00</td>\n",
       "      <td>$57,129.79</td>\n",
       "      <td>57900.0</td>\n",
       "      <td>57129.79</td>\n",
       "    </tr>\n",
       "    <tr>\n",
       "      <th>3</th>\n",
       "      <td>2012</td>\n",
       "      <td>Abdal-Rahim,Naim A</td>\n",
       "      <td>EMT FIREFIGHTER</td>\n",
       "      <td>A64215</td>\n",
       "      <td>Fire Department</td>\n",
       "      <td>3/30/11</td>\n",
       "      <td>$34,146.00</td>\n",
       "      <td>$35,537.88</td>\n",
       "      <td>34146.0</td>\n",
       "      <td>35537.88</td>\n",
       "    </tr>\n",
       "    <tr>\n",
       "      <th>4</th>\n",
       "      <td>2012</td>\n",
       "      <td>Abdi,Ezekiel W</td>\n",
       "      <td>POLICE OFFICER</td>\n",
       "      <td>A99398</td>\n",
       "      <td>Police Department</td>\n",
       "      <td>6/14/07</td>\n",
       "      <td>$58,244.00</td>\n",
       "      <td>$62,669.25</td>\n",
       "      <td>58244.0</td>\n",
       "      <td>62669.25</td>\n",
       "    </tr>\n",
       "  </tbody>\n",
       "</table>\n",
       "</div>"
      ],
      "text/plain": [
       "   ﻿SurveyYear                Name                       JobTitle AgencyID  \\\n",
       "0         2012    Aaron,Patricia G  Facilities/Office Services II   A03031   \n",
       "1         2012       Aaron,Petra L     ASSISTANT STATE'S ATTORNEY   A29005   \n",
       "2         2012  Abaineh,Yohannes T                 EPIDEMIOLOGIST   A65026   \n",
       "3         2012  Abdal-Rahim,Naim A                EMT FIREFIGHTER   A64215   \n",
       "4         2012      Abdi,Ezekiel W                 POLICE OFFICER   A99398   \n",
       "\n",
       "                     Agency  HireDate AnnualSalaryMoney GrossPayMoney  \\\n",
       "0       OED-Employment Dev   10/24/79       $51,862.00    $52,247.39    \n",
       "1  States Attorneys Office    9/25/06       $64,000.00    $59,026.81    \n",
       "2   HLTH-Health Department    7/23/09       $57,900.00    $57,129.79    \n",
       "3          Fire Department    3/30/11       $34,146.00    $35,537.88    \n",
       "4        Police Department    6/14/07       $58,244.00    $62,669.25    \n",
       "\n",
       "   AnnualSalary  GrossPay  \n",
       "0       51862.0  52247.39  \n",
       "1       64000.0  59026.81  \n",
       "2       57900.0  57129.79  \n",
       "3       34146.0  35537.88  \n",
       "4       58244.0  62669.25  "
      ]
     },
     "execution_count": 5,
     "metadata": {},
     "output_type": "execute_result"
    }
   ],
   "source": [
    "data.head()"
   ]
  },
  {
   "cell_type": "code",
   "execution_count": 6,
   "metadata": {
    "collapsed": false
   },
   "outputs": [
    {
     "data": {
      "text/plain": [
       "﻿SurveyYear            int64\n",
       "Name                  object\n",
       "JobTitle              object\n",
       "AgencyID              object\n",
       "Agency                object\n",
       "HireDate              object\n",
       "AnnualSalaryMoney     object\n",
       "GrossPayMoney         object\n",
       "AnnualSalary         float64\n",
       "GrossPay             float64\n",
       "dtype: object"
      ]
     },
     "execution_count": 6,
     "metadata": {},
     "output_type": "execute_result"
    }
   ],
   "source": [
    "data.dtypes"
   ]
  },
  {
   "cell_type": "code",
   "execution_count": 7,
   "metadata": {
    "collapsed": false
   },
   "outputs": [],
   "source": [
    "# data.SurveyYear = pd.to_numeric(data.SurveyYear)\n",
    "data.HireDate = pd.to_datetime(data.HireDate)"
   ]
  },
  {
   "cell_type": "code",
   "execution_count": 9,
   "metadata": {
    "collapsed": false
   },
   "outputs": [
    {
     "data": {
      "text/plain": [
       "﻿SurveyYear                   int64\n",
       "Name                         object\n",
       "JobTitle                     object\n",
       "AgencyID                     object\n",
       "Agency                       object\n",
       "HireDate             datetime64[ns]\n",
       "AnnualSalaryMoney            object\n",
       "GrossPayMoney                object\n",
       "AnnualSalary                float64\n",
       "GrossPay                    float64\n",
       "dtype: object"
      ]
     },
     "execution_count": 9,
     "metadata": {},
     "output_type": "execute_result"
    }
   ],
   "source": [
    "data.dtypes"
   ]
  },
  {
   "cell_type": "code",
   "execution_count": 10,
   "metadata": {
    "collapsed": false
   },
   "outputs": [],
   "source": [
    "# convert all the financial data to floats\n",
    "# x = lambda x: re.findall(r'[^$]*', x)[1]\n",
    "# data['AnnualSalaryFloat'] = data.AnnualSalary.apply(x)\n",
    "# data.AnnualSalaryFloat = pd.to_numeric(data.AnnualSalaryFloat)\n",
    "\n",
    "# data['GrossPayFloat'] = data.GrossPay.apply(x)\n",
    "# data.GrossPayFloat = pd.to_numeric(data.GrossPayFloat)"
   ]
  },
  {
   "cell_type": "code",
   "execution_count": 11,
   "metadata": {
    "collapsed": false
   },
   "outputs": [
    {
     "data": {
      "text/html": [
       "<div>\n",
       "<table border=\"1\" class=\"dataframe\">\n",
       "  <thead>\n",
       "    <tr style=\"text-align: right;\">\n",
       "      <th></th>\n",
       "      <th>﻿SurveyYear</th>\n",
       "      <th>Name</th>\n",
       "      <th>JobTitle</th>\n",
       "      <th>AgencyID</th>\n",
       "      <th>Agency</th>\n",
       "      <th>HireDate</th>\n",
       "      <th>AnnualSalaryMoney</th>\n",
       "      <th>GrossPayMoney</th>\n",
       "      <th>AnnualSalary</th>\n",
       "      <th>GrossPay</th>\n",
       "    </tr>\n",
       "  </thead>\n",
       "  <tbody>\n",
       "    <tr>\n",
       "      <th>0</th>\n",
       "      <td>2012</td>\n",
       "      <td>Aaron,Patricia G</td>\n",
       "      <td>Facilities/Office Services II</td>\n",
       "      <td>A03031</td>\n",
       "      <td>OED-Employment Dev</td>\n",
       "      <td>1979-10-24</td>\n",
       "      <td>$51,862.00</td>\n",
       "      <td>$52,247.39</td>\n",
       "      <td>51862.0</td>\n",
       "      <td>52247.39</td>\n",
       "    </tr>\n",
       "    <tr>\n",
       "      <th>1</th>\n",
       "      <td>2012</td>\n",
       "      <td>Aaron,Petra L</td>\n",
       "      <td>ASSISTANT STATE'S ATTORNEY</td>\n",
       "      <td>A29005</td>\n",
       "      <td>States Attorneys Office</td>\n",
       "      <td>2006-09-25</td>\n",
       "      <td>$64,000.00</td>\n",
       "      <td>$59,026.81</td>\n",
       "      <td>64000.0</td>\n",
       "      <td>59026.81</td>\n",
       "    </tr>\n",
       "    <tr>\n",
       "      <th>2</th>\n",
       "      <td>2012</td>\n",
       "      <td>Abaineh,Yohannes T</td>\n",
       "      <td>EPIDEMIOLOGIST</td>\n",
       "      <td>A65026</td>\n",
       "      <td>HLTH-Health Department</td>\n",
       "      <td>2009-07-23</td>\n",
       "      <td>$57,900.00</td>\n",
       "      <td>$57,129.79</td>\n",
       "      <td>57900.0</td>\n",
       "      <td>57129.79</td>\n",
       "    </tr>\n",
       "    <tr>\n",
       "      <th>3</th>\n",
       "      <td>2012</td>\n",
       "      <td>Abdal-Rahim,Naim A</td>\n",
       "      <td>EMT FIREFIGHTER</td>\n",
       "      <td>A64215</td>\n",
       "      <td>Fire Department</td>\n",
       "      <td>2011-03-30</td>\n",
       "      <td>$34,146.00</td>\n",
       "      <td>$35,537.88</td>\n",
       "      <td>34146.0</td>\n",
       "      <td>35537.88</td>\n",
       "    </tr>\n",
       "    <tr>\n",
       "      <th>4</th>\n",
       "      <td>2012</td>\n",
       "      <td>Abdi,Ezekiel W</td>\n",
       "      <td>POLICE OFFICER</td>\n",
       "      <td>A99398</td>\n",
       "      <td>Police Department</td>\n",
       "      <td>2007-06-14</td>\n",
       "      <td>$58,244.00</td>\n",
       "      <td>$62,669.25</td>\n",
       "      <td>58244.0</td>\n",
       "      <td>62669.25</td>\n",
       "    </tr>\n",
       "  </tbody>\n",
       "</table>\n",
       "</div>"
      ],
      "text/plain": [
       "   ﻿SurveyYear                Name                       JobTitle AgencyID  \\\n",
       "0         2012    Aaron,Patricia G  Facilities/Office Services II   A03031   \n",
       "1         2012       Aaron,Petra L     ASSISTANT STATE'S ATTORNEY   A29005   \n",
       "2         2012  Abaineh,Yohannes T                 EPIDEMIOLOGIST   A65026   \n",
       "3         2012  Abdal-Rahim,Naim A                EMT FIREFIGHTER   A64215   \n",
       "4         2012      Abdi,Ezekiel W                 POLICE OFFICER   A99398   \n",
       "\n",
       "                     Agency   HireDate AnnualSalaryMoney GrossPayMoney  \\\n",
       "0       OED-Employment Dev  1979-10-24       $51,862.00    $52,247.39    \n",
       "1  States Attorneys Office  2006-09-25       $64,000.00    $59,026.81    \n",
       "2   HLTH-Health Department  2009-07-23       $57,900.00    $57,129.79    \n",
       "3          Fire Department  2011-03-30       $34,146.00    $35,537.88    \n",
       "4        Police Department  2007-06-14       $58,244.00    $62,669.25    \n",
       "\n",
       "   AnnualSalary  GrossPay  \n",
       "0       51862.0  52247.39  \n",
       "1       64000.0  59026.81  \n",
       "2       57900.0  57129.79  \n",
       "3       34146.0  35537.88  \n",
       "4       58244.0  62669.25  "
      ]
     },
     "execution_count": 11,
     "metadata": {},
     "output_type": "execute_result"
    }
   ],
   "source": [
    "data.head()"
   ]
  },
  {
   "cell_type": "code",
   "execution_count": 12,
   "metadata": {
    "collapsed": false,
    "scrolled": true
   },
   "outputs": [
    {
     "data": {
      "text/plain": [
       "﻿SurveyYear                   int64\n",
       "Name                         object\n",
       "JobTitle                     object\n",
       "AgencyID                     object\n",
       "Agency                       object\n",
       "HireDate             datetime64[ns]\n",
       "AnnualSalaryMoney            object\n",
       "GrossPayMoney                object\n",
       "AnnualSalary                float64\n",
       "GrossPay                    float64\n",
       "dtype: object"
      ]
     },
     "execution_count": 12,
     "metadata": {},
     "output_type": "execute_result"
    }
   ],
   "source": [
    "data.dtypes"
   ]
  },
  {
   "cell_type": "code",
   "execution_count": 13,
   "metadata": {
    "collapsed": false
   },
   "outputs": [],
   "source": [
    "# this one normalizes 'Agency' column when it = 'Mayors Office' to be 'Mayor's Office'\n",
    "data.loc[data.loc[:,'Agency'].str.contains('Mayors Office') == True, 'Agency'] = data[data.Agency.str.contains('Mayors Office') == True].Agency.str.replace('Mayors Office', 'Mayor\\'s Office')"
   ]
  },
  {
   "cell_type": "code",
   "execution_count": 14,
   "metadata": {
    "collapsed": false
   },
   "outputs": [],
   "source": [
    "data.Agency = data.Agency.str.strip()"
   ]
  },
  {
   "cell_type": "markdown",
   "metadata": {},
   "source": [
    "## Feature Engineering"
   ]
  },
  {
   "cell_type": "markdown",
   "metadata": {},
   "source": [
    "### Tenure"
   ]
  },
  {
   "cell_type": "code",
   "execution_count": 15,
   "metadata": {
    "collapsed": false
   },
   "outputs": [],
   "source": [
    "# calculates the tenure at the time the data was collected\n",
    "today = pd.datetime(2015, 5, 30)\n",
    "x = lambda x: today - x\n",
    "data['Tenure'] = data.HireDate.apply(x)\n",
    "\n",
    "# creates a feature of tenure in years stored as an int\n",
    "x = lambda x: int(x / pd.Timedelta(1, 'Y'))\n",
    "data['TenureYears'] = data.Tenure.apply(x)"
   ]
  },
  {
   "cell_type": "code",
   "execution_count": 16,
   "metadata": {
    "collapsed": true
   },
   "outputs": [],
   "source": [
    "# https://www.disabled-world.com/calculators-charts/wedding-Anniversaries.php\n",
    "# Wooden (5th), Tin (10th), Crystal (15th), China (20th), Silver (25th), Pearl (30th), Ruby (40th), Golden (50th), and Diamond (60th)\n",
    "def tenure_buckets(tenure_years):\n",
    "    if tenure_years > 60:\n",
    "        return 'Diamond(>60)'\n",
    "    elif tenure_years > 50:\n",
    "        return 'Gold(>50)'\n",
    "    elif tenure_years > 40:\n",
    "        return 'Ruby(>40)'\n",
    "    elif tenure_years > 30:\n",
    "        return 'Pearl(>30)'\n",
    "    elif tenure_years > 25:\n",
    "        return 'Silver(>25)'\n",
    "    elif tenure_years > 20:\n",
    "        return 'China(>20)'\n",
    "    elif tenure_years > 15:\n",
    "        return 'Crystal(>15)'\n",
    "    elif tenure_years > 10:\n",
    "        return 'Tin(>10)'\n",
    "    elif tenure_years > 5:\n",
    "        return 'Wood(>5)'\n",
    "    else:\n",
    "        return 'Paper(<5)'\n",
    "\n",
    "tenure_bucket_order = ['Paper(<5)', 'Wood(>5)', 'Tin(>10)', 'Crystal(>15)', 'China(>20)',\n",
    "                           'Silver(>25)', 'Pearl(>30)', 'Ruby(>40)', 'Gold(>50)', 'Diamond(>60)']\n",
    "\n",
    "def tenure_buckets_rank(tenure_years):\n",
    "    if tenure_years > 60:\n",
    "        return 1\n",
    "    elif tenure_years > 50:\n",
    "        return 2\n",
    "    elif tenure_years > 40:\n",
    "        return 3\n",
    "    elif tenure_years > 30:\n",
    "        return 4\n",
    "    elif tenure_years > 25:\n",
    "        return 5\n",
    "    elif tenure_years > 20:\n",
    "        return 6\n",
    "    elif tenure_years > 15:\n",
    "        return 7\n",
    "    elif tenure_years > 10:\n",
    "        return 8\n",
    "    elif tenure_years > 5:\n",
    "        return 9\n",
    "    else:\n",
    "        return 10"
   ]
  },
  {
   "cell_type": "code",
   "execution_count": 17,
   "metadata": {
    "collapsed": true
   },
   "outputs": [],
   "source": [
    "data['TenureClass'] = data.TenureYears.apply(tenure_buckets)\n",
    "data['TenureClassRank'] = data.TenureYears.apply(tenure_buckets_rank)"
   ]
  },
  {
   "cell_type": "markdown",
   "metadata": {},
   "source": [
    "### Agency categories/subcategory"
   ]
  },
  {
   "cell_type": "code",
   "execution_count": 18,
   "metadata": {
    "collapsed": false
   },
   "outputs": [],
   "source": [
    "# first 3 of the AgencyID is the AgencyCode\n",
    "x = lambda x: x[:-3]\n",
    "data['AgencyCode'] = data.AgencyID.apply(x)\n",
    "\n",
    "# first 3 of the AgencyID is the AgencySubCode\n",
    "x = lambda x: x[-3:]\n",
    "data['AgencySubCode'] = data.AgencyID.apply(x)"
   ]
  },
  {
   "cell_type": "code",
   "execution_count": 19,
   "metadata": {
    "collapsed": false
   },
   "outputs": [],
   "source": [
    "# this crazy regex is to strip the trailing code data at the end of Agency\n",
    "# https://regex101.com/r/9F56Wh/1\n",
    "x = lambda x: re.sub(r' \\([\\w-]+\\) *\\(*[\\w]*\\)*|-Hea[lt]{2}h.*| \\(.*| \\d+', '', x)\n",
    "data['AgencyCat'] = data.Agency.apply(x)"
   ]
  },
  {
   "cell_type": "code",
   "execution_count": 20,
   "metadata": {
    "collapsed": false,
    "scrolled": true
   },
   "outputs": [
    {
     "data": {
      "text/html": [
       "<div>\n",
       "<table border=\"1\" class=\"dataframe\">\n",
       "  <thead>\n",
       "    <tr style=\"text-align: right;\">\n",
       "      <th></th>\n",
       "      <th>﻿SurveyYear</th>\n",
       "      <th>Name</th>\n",
       "      <th>JobTitle</th>\n",
       "      <th>AgencyID</th>\n",
       "      <th>Agency</th>\n",
       "      <th>HireDate</th>\n",
       "      <th>AnnualSalaryMoney</th>\n",
       "      <th>GrossPayMoney</th>\n",
       "      <th>AnnualSalary</th>\n",
       "      <th>GrossPay</th>\n",
       "      <th>Tenure</th>\n",
       "      <th>TenureYears</th>\n",
       "      <th>TenureClass</th>\n",
       "      <th>TenureClassRank</th>\n",
       "      <th>AgencyCode</th>\n",
       "      <th>AgencySubCode</th>\n",
       "      <th>AgencyCat</th>\n",
       "    </tr>\n",
       "  </thead>\n",
       "  <tbody>\n",
       "    <tr>\n",
       "      <th>0</th>\n",
       "      <td>2012</td>\n",
       "      <td>Aaron,Patricia G</td>\n",
       "      <td>Facilities/Office Services II</td>\n",
       "      <td>A03031</td>\n",
       "      <td>OED-Employment Dev</td>\n",
       "      <td>1979-10-24</td>\n",
       "      <td>$51,862.00</td>\n",
       "      <td>$52,247.39</td>\n",
       "      <td>51862.0</td>\n",
       "      <td>52247.39</td>\n",
       "      <td>13002 days</td>\n",
       "      <td>35</td>\n",
       "      <td>Pearl(&gt;30)</td>\n",
       "      <td>4</td>\n",
       "      <td>A03</td>\n",
       "      <td>031</td>\n",
       "      <td>OED-Employment Dev</td>\n",
       "    </tr>\n",
       "    <tr>\n",
       "      <th>1</th>\n",
       "      <td>2012</td>\n",
       "      <td>Aaron,Petra L</td>\n",
       "      <td>ASSISTANT STATE'S ATTORNEY</td>\n",
       "      <td>A29005</td>\n",
       "      <td>States Attorneys Office</td>\n",
       "      <td>2006-09-25</td>\n",
       "      <td>$64,000.00</td>\n",
       "      <td>$59,026.81</td>\n",
       "      <td>64000.0</td>\n",
       "      <td>59026.81</td>\n",
       "      <td>3169 days</td>\n",
       "      <td>8</td>\n",
       "      <td>Wood(&gt;5)</td>\n",
       "      <td>9</td>\n",
       "      <td>A29</td>\n",
       "      <td>005</td>\n",
       "      <td>States Attorneys Office</td>\n",
       "    </tr>\n",
       "    <tr>\n",
       "      <th>2</th>\n",
       "      <td>2012</td>\n",
       "      <td>Abaineh,Yohannes T</td>\n",
       "      <td>EPIDEMIOLOGIST</td>\n",
       "      <td>A65026</td>\n",
       "      <td>HLTH-Health Department</td>\n",
       "      <td>2009-07-23</td>\n",
       "      <td>$57,900.00</td>\n",
       "      <td>$57,129.79</td>\n",
       "      <td>57900.0</td>\n",
       "      <td>57129.79</td>\n",
       "      <td>2137 days</td>\n",
       "      <td>5</td>\n",
       "      <td>Paper(&lt;5)</td>\n",
       "      <td>10</td>\n",
       "      <td>A65</td>\n",
       "      <td>026</td>\n",
       "      <td>HLTH</td>\n",
       "    </tr>\n",
       "    <tr>\n",
       "      <th>3</th>\n",
       "      <td>2012</td>\n",
       "      <td>Abdal-Rahim,Naim A</td>\n",
       "      <td>EMT FIREFIGHTER</td>\n",
       "      <td>A64215</td>\n",
       "      <td>Fire Department</td>\n",
       "      <td>2011-03-30</td>\n",
       "      <td>$34,146.00</td>\n",
       "      <td>$35,537.88</td>\n",
       "      <td>34146.0</td>\n",
       "      <td>35537.88</td>\n",
       "      <td>1522 days</td>\n",
       "      <td>4</td>\n",
       "      <td>Paper(&lt;5)</td>\n",
       "      <td>10</td>\n",
       "      <td>A64</td>\n",
       "      <td>215</td>\n",
       "      <td>Fire Department</td>\n",
       "    </tr>\n",
       "    <tr>\n",
       "      <th>4</th>\n",
       "      <td>2012</td>\n",
       "      <td>Abdi,Ezekiel W</td>\n",
       "      <td>POLICE OFFICER</td>\n",
       "      <td>A99398</td>\n",
       "      <td>Police Department</td>\n",
       "      <td>2007-06-14</td>\n",
       "      <td>$58,244.00</td>\n",
       "      <td>$62,669.25</td>\n",
       "      <td>58244.0</td>\n",
       "      <td>62669.25</td>\n",
       "      <td>2907 days</td>\n",
       "      <td>7</td>\n",
       "      <td>Wood(&gt;5)</td>\n",
       "      <td>9</td>\n",
       "      <td>A99</td>\n",
       "      <td>398</td>\n",
       "      <td>Police Department</td>\n",
       "    </tr>\n",
       "  </tbody>\n",
       "</table>\n",
       "</div>"
      ],
      "text/plain": [
       "   ﻿SurveyYear                Name                       JobTitle AgencyID  \\\n",
       "0         2012    Aaron,Patricia G  Facilities/Office Services II   A03031   \n",
       "1         2012       Aaron,Petra L     ASSISTANT STATE'S ATTORNEY   A29005   \n",
       "2         2012  Abaineh,Yohannes T                 EPIDEMIOLOGIST   A65026   \n",
       "3         2012  Abdal-Rahim,Naim A                EMT FIREFIGHTER   A64215   \n",
       "4         2012      Abdi,Ezekiel W                 POLICE OFFICER   A99398   \n",
       "\n",
       "                    Agency   HireDate AnnualSalaryMoney GrossPayMoney  \\\n",
       "0       OED-Employment Dev 1979-10-24       $51,862.00    $52,247.39    \n",
       "1  States Attorneys Office 2006-09-25       $64,000.00    $59,026.81    \n",
       "2   HLTH-Health Department 2009-07-23       $57,900.00    $57,129.79    \n",
       "3          Fire Department 2011-03-30       $34,146.00    $35,537.88    \n",
       "4        Police Department 2007-06-14       $58,244.00    $62,669.25    \n",
       "\n",
       "   AnnualSalary  GrossPay     Tenure  TenureYears TenureClass  \\\n",
       "0       51862.0  52247.39 13002 days           35  Pearl(>30)   \n",
       "1       64000.0  59026.81  3169 days            8    Wood(>5)   \n",
       "2       57900.0  57129.79  2137 days            5   Paper(<5)   \n",
       "3       34146.0  35537.88  1522 days            4   Paper(<5)   \n",
       "4       58244.0  62669.25  2907 days            7    Wood(>5)   \n",
       "\n",
       "   TenureClassRank AgencyCode AgencySubCode                AgencyCat  \n",
       "0                4        A03           031       OED-Employment Dev  \n",
       "1                9        A29           005  States Attorneys Office  \n",
       "2               10        A65           026                     HLTH  \n",
       "3               10        A64           215          Fire Department  \n",
       "4                9        A99           398        Police Department  "
      ]
     },
     "execution_count": 20,
     "metadata": {},
     "output_type": "execute_result"
    }
   ],
   "source": [
    "data.head()"
   ]
  },
  {
   "cell_type": "code",
   "execution_count": 25,
   "metadata": {
    "collapsed": false
   },
   "outputs": [
    {
     "data": {
      "text/html": [
       "<div>\n",
       "<table border=\"1\" class=\"dataframe\">\n",
       "  <thead>\n",
       "    <tr style=\"text-align: right;\">\n",
       "      <th></th>\n",
       "      <th></th>\n",
       "      <th>Agency</th>\n",
       "      <th>Name</th>\n",
       "    </tr>\n",
       "    <tr>\n",
       "      <th>AgencyCode</th>\n",
       "      <th>AgencyCat</th>\n",
       "      <th></th>\n",
       "      <th></th>\n",
       "    </tr>\n",
       "  </thead>\n",
       "  <tbody>\n",
       "    <tr>\n",
       "      <th></th>\n",
       "      <th>OED-Employment Dev</th>\n",
       "      <td>1</td>\n",
       "      <td>1</td>\n",
       "    </tr>\n",
       "    <tr>\n",
       "      <th>A01</th>\n",
       "      <th>Mayor's Office</th>\n",
       "      <td>4</td>\n",
       "      <td>200</td>\n",
       "    </tr>\n",
       "    <tr>\n",
       "      <th>A02</th>\n",
       "      <th>City Council</th>\n",
       "      <td>5</td>\n",
       "      <td>141</td>\n",
       "    </tr>\n",
       "    <tr>\n",
       "      <th>A03</th>\n",
       "      <th>OED-Employment Dev</th>\n",
       "      <td>19</td>\n",
       "      <td>268</td>\n",
       "    </tr>\n",
       "    <tr>\n",
       "      <th>A04</th>\n",
       "      <th>R&amp;P-Recreation</th>\n",
       "      <td>11</td>\n",
       "      <td>214</td>\n",
       "    </tr>\n",
       "    <tr>\n",
       "      <th>A06</th>\n",
       "      <th>Housing &amp; Community Dev</th>\n",
       "      <td>34</td>\n",
       "      <td>739</td>\n",
       "    </tr>\n",
       "    <tr>\n",
       "      <th>A08</th>\n",
       "      <th>M-R Human Services</th>\n",
       "      <td>13</td>\n",
       "      <td>206</td>\n",
       "    </tr>\n",
       "    <tr>\n",
       "      <th>A09</th>\n",
       "      <th>Liquor License Board</th>\n",
       "      <td>3</td>\n",
       "      <td>53</td>\n",
       "    </tr>\n",
       "    <tr>\n",
       "      <th>A12</th>\n",
       "      <th>FIN-Acct &amp; Payroll</th>\n",
       "      <td>4</td>\n",
       "      <td>75</td>\n",
       "    </tr>\n",
       "    <tr>\n",
       "      <th>A14</th>\n",
       "      <th>FIN-Collections</th>\n",
       "      <td>9</td>\n",
       "      <td>193</td>\n",
       "    </tr>\n",
       "    <tr>\n",
       "      <th>A15</th>\n",
       "      <th>COMP-Real Estate</th>\n",
       "      <td>2</td>\n",
       "      <td>12</td>\n",
       "    </tr>\n",
       "    <tr>\n",
       "      <th rowspan=\"2\" valign=\"top\">A16</th>\n",
       "      <th>COMP-Comptroller's O</th>\n",
       "      <td>1</td>\n",
       "      <td>12</td>\n",
       "    </tr>\n",
       "    <tr>\n",
       "      <th>COMP-Comptroller's Office</th>\n",
       "      <td>1</td>\n",
       "      <td>16</td>\n",
       "    </tr>\n",
       "    <tr>\n",
       "      <th>A17</th>\n",
       "      <th>FIN-Purchasing</th>\n",
       "      <td>3</td>\n",
       "      <td>68</td>\n",
       "    </tr>\n",
       "    <tr>\n",
       "      <th>A18</th>\n",
       "      <th>FIN-Treasury Mgt</th>\n",
       "      <td>2</td>\n",
       "      <td>12</td>\n",
       "    </tr>\n",
       "    <tr>\n",
       "      <th>A19</th>\n",
       "      <th>Planning Department</th>\n",
       "      <td>6</td>\n",
       "      <td>77</td>\n",
       "    </tr>\n",
       "    <tr>\n",
       "      <th>A23</th>\n",
       "      <th>FIN-Admin &amp; Budgets</th>\n",
       "      <td>5</td>\n",
       "      <td>65</td>\n",
       "    </tr>\n",
       "    <tr>\n",
       "      <th>A24</th>\n",
       "      <th>COMP-Audits</th>\n",
       "      <td>3</td>\n",
       "      <td>53</td>\n",
       "    </tr>\n",
       "    <tr>\n",
       "      <th>A26</th>\n",
       "      <th>M-R Labor Commissioner</th>\n",
       "      <td>2</td>\n",
       "      <td>10</td>\n",
       "    </tr>\n",
       "    <tr>\n",
       "      <th>A29</th>\n",
       "      <th>States Attorneys Office</th>\n",
       "      <td>18</td>\n",
       "      <td>567</td>\n",
       "    </tr>\n",
       "    <tr>\n",
       "      <th>A30</th>\n",
       "      <th>Law Department</th>\n",
       "      <td>5</td>\n",
       "      <td>167</td>\n",
       "    </tr>\n",
       "    <tr>\n",
       "      <th>A31</th>\n",
       "      <th>Circuit Court</th>\n",
       "      <td>8</td>\n",
       "      <td>244</td>\n",
       "    </tr>\n",
       "    <tr>\n",
       "      <th>A32</th>\n",
       "      <th>FIN-Risk Management Oper</th>\n",
       "      <td>3</td>\n",
       "      <td>23</td>\n",
       "    </tr>\n",
       "    <tr>\n",
       "      <th>A33</th>\n",
       "      <th>Legislative Reference</th>\n",
       "      <td>3</td>\n",
       "      <td>6</td>\n",
       "    </tr>\n",
       "    <tr>\n",
       "      <th>A35</th>\n",
       "      <th>Elections</th>\n",
       "      <td>2</td>\n",
       "      <td>18</td>\n",
       "    </tr>\n",
       "    <tr>\n",
       "      <th>A37</th>\n",
       "      <th>Orphan's Court</th>\n",
       "      <td>3</td>\n",
       "      <td>18</td>\n",
       "    </tr>\n",
       "    <tr>\n",
       "      <th>A38</th>\n",
       "      <th>Sheriff's Office</th>\n",
       "      <td>7</td>\n",
       "      <td>276</td>\n",
       "    </tr>\n",
       "    <tr>\n",
       "      <th>A40</th>\n",
       "      <th>M-R Info Technology</th>\n",
       "      <td>6</td>\n",
       "      <td>367</td>\n",
       "    </tr>\n",
       "    <tr>\n",
       "      <th>A41</th>\n",
       "      <th>DPW-Administration</th>\n",
       "      <td>7</td>\n",
       "      <td>221</td>\n",
       "    </tr>\n",
       "    <tr>\n",
       "      <th>A44</th>\n",
       "      <th>M-R Cable &amp; Comm</th>\n",
       "      <td>2</td>\n",
       "      <td>7</td>\n",
       "    </tr>\n",
       "    <tr>\n",
       "      <th>...</th>\n",
       "      <th>...</th>\n",
       "      <td>...</td>\n",
       "      <td>...</td>\n",
       "    </tr>\n",
       "    <tr>\n",
       "      <th>A68</th>\n",
       "      <th>R&amp;P-Parks</th>\n",
       "      <td>11</td>\n",
       "      <td>204</td>\n",
       "    </tr>\n",
       "    <tr>\n",
       "      <th>A70</th>\n",
       "      <th>DPW-Solid Waste</th>\n",
       "      <td>18</td>\n",
       "      <td>572</td>\n",
       "    </tr>\n",
       "    <tr>\n",
       "      <th rowspan=\"2\" valign=\"top\">A73</th>\n",
       "      <th>Municipal &amp; Zoning Appeal</th>\n",
       "      <td>1</td>\n",
       "      <td>9</td>\n",
       "    </tr>\n",
       "    <tr>\n",
       "      <th>Municipal &amp; Zoning Appeals</th>\n",
       "      <td>1</td>\n",
       "      <td>14</td>\n",
       "    </tr>\n",
       "    <tr>\n",
       "      <th>A75</th>\n",
       "      <th>Enoch Pratt Free Library</th>\n",
       "      <td>61</td>\n",
       "      <td>648</td>\n",
       "    </tr>\n",
       "    <tr>\n",
       "      <th>A83</th>\n",
       "      <th>HR-Human Resources</th>\n",
       "      <td>8</td>\n",
       "      <td>104</td>\n",
       "    </tr>\n",
       "    <tr>\n",
       "      <th>A84</th>\n",
       "      <th>TRANS-Towing</th>\n",
       "      <td>4</td>\n",
       "      <td>101</td>\n",
       "    </tr>\n",
       "    <tr>\n",
       "      <th>A85</th>\n",
       "      <th>General Services</th>\n",
       "      <td>7</td>\n",
       "      <td>536</td>\n",
       "    </tr>\n",
       "    <tr>\n",
       "      <th>A86</th>\n",
       "      <th>War Memorial Commission</th>\n",
       "      <td>1</td>\n",
       "      <td>4</td>\n",
       "    </tr>\n",
       "    <tr>\n",
       "      <th rowspan=\"2\" valign=\"top\">A88</th>\n",
       "      <th>COMP-Communication Ser</th>\n",
       "      <td>1</td>\n",
       "      <td>30</td>\n",
       "    </tr>\n",
       "    <tr>\n",
       "      <th>COMP-Communication Services</th>\n",
       "      <td>1</td>\n",
       "      <td>46</td>\n",
       "    </tr>\n",
       "    <tr>\n",
       "      <th>A90</th>\n",
       "      <th>TRANS-Traffic</th>\n",
       "      <td>7</td>\n",
       "      <td>340</td>\n",
       "    </tr>\n",
       "    <tr>\n",
       "      <th>A91</th>\n",
       "      <th>M-R Convention Center</th>\n",
       "      <td>8</td>\n",
       "      <td>320</td>\n",
       "    </tr>\n",
       "    <tr>\n",
       "      <th>A99</th>\n",
       "      <th>Police Department</th>\n",
       "      <td>142</td>\n",
       "      <td>4286</td>\n",
       "    </tr>\n",
       "    <tr>\n",
       "      <th>B49</th>\n",
       "      <th>TRANS-Highways</th>\n",
       "      <td>17</td>\n",
       "      <td>168</td>\n",
       "    </tr>\n",
       "    <tr>\n",
       "      <th>B68</th>\n",
       "      <th>R&amp;P-Parks</th>\n",
       "      <td>10</td>\n",
       "      <td>125</td>\n",
       "    </tr>\n",
       "    <tr>\n",
       "      <th>B70</th>\n",
       "      <th>DPW-Solid Waste</th>\n",
       "      <td>28</td>\n",
       "      <td>554</td>\n",
       "    </tr>\n",
       "    <tr>\n",
       "      <th rowspan=\"3\" valign=\"top\">C90</th>\n",
       "      <th>TRANS-Cross Guard-S</th>\n",
       "      <td>1</td>\n",
       "      <td>30</td>\n",
       "    </tr>\n",
       "    <tr>\n",
       "      <th>TRANS-Cross Guard-Summer</th>\n",
       "      <td>1</td>\n",
       "      <td>121</td>\n",
       "    </tr>\n",
       "    <tr>\n",
       "      <th>TRANS-Crossing Guards</th>\n",
       "      <td>4</td>\n",
       "      <td>445</td>\n",
       "    </tr>\n",
       "    <tr>\n",
       "      <th>D01</th>\n",
       "      <th>Dem</th>\n",
       "      <td>1</td>\n",
       "      <td>5</td>\n",
       "    </tr>\n",
       "    <tr>\n",
       "      <th>P04</th>\n",
       "      <th>R&amp;P-Recreation</th>\n",
       "      <td>3</td>\n",
       "      <td>877</td>\n",
       "    </tr>\n",
       "    <tr>\n",
       "      <th>P83</th>\n",
       "      <th>HR-Test Monitor</th>\n",
       "      <td>2</td>\n",
       "      <td>21</td>\n",
       "    </tr>\n",
       "    <tr>\n",
       "      <th>R01</th>\n",
       "      <th>Rep</th>\n",
       "      <td>1</td>\n",
       "      <td>5</td>\n",
       "    </tr>\n",
       "    <tr>\n",
       "      <th>SCS</th>\n",
       "      <th>Special City Services</th>\n",
       "      <td>2</td>\n",
       "      <td>6</td>\n",
       "    </tr>\n",
       "    <tr>\n",
       "      <th rowspan=\"2\" valign=\"top\">W02</th>\n",
       "      <th>Youth Summer</th>\n",
       "      <td>51</td>\n",
       "      <td>3387</td>\n",
       "    </tr>\n",
       "    <tr>\n",
       "      <th>Youth Summer</th>\n",
       "      <td>335</td>\n",
       "      <td>1504</td>\n",
       "    </tr>\n",
       "    <tr>\n",
       "      <th>W03</th>\n",
       "      <th>Youth Cust</th>\n",
       "      <td>2</td>\n",
       "      <td>34</td>\n",
       "    </tr>\n",
       "    <tr>\n",
       "      <th>W07</th>\n",
       "      <th>Youth Temp Adult</th>\n",
       "      <td>3</td>\n",
       "      <td>72</td>\n",
       "    </tr>\n",
       "    <tr>\n",
       "      <th>W08</th>\n",
       "      <th>TANF Cust</th>\n",
       "      <td>1</td>\n",
       "      <td>50</td>\n",
       "    </tr>\n",
       "  </tbody>\n",
       "</table>\n",
       "<p>73 rows × 2 columns</p>\n",
       "</div>"
      ],
      "text/plain": [
       "                                        Agency  Name\n",
       "AgencyCode AgencyCat                                \n",
       "           OED-Employment Dev                1     1\n",
       "A01        Mayor's Office                    4   200\n",
       "A02        City Council                      5   141\n",
       "A03        OED-Employment Dev               19   268\n",
       "A04        R&P-Recreation                   11   214\n",
       "A06        Housing & Community Dev          34   739\n",
       "A08        M-R Human Services               13   206\n",
       "A09        Liquor License Board              3    53\n",
       "A12        FIN-Acct & Payroll                4    75\n",
       "A14        FIN-Collections                   9   193\n",
       "A15        COMP-Real Estate                  2    12\n",
       "A16        COMP-Comptroller's O              1    12\n",
       "           COMP-Comptroller's Office         1    16\n",
       "A17        FIN-Purchasing                    3    68\n",
       "A18        FIN-Treasury Mgt                  2    12\n",
       "A19        Planning Department               6    77\n",
       "A23        FIN-Admin & Budgets               5    65\n",
       "A24        COMP-Audits                       3    53\n",
       "A26        M-R Labor Commissioner            2    10\n",
       "A29        States Attorneys Office          18   567\n",
       "A30        Law Department                    5   167\n",
       "A31        Circuit Court                     8   244\n",
       "A32        FIN-Risk Management Oper          3    23\n",
       "A33        Legislative Reference             3     6\n",
       "A35        Elections                         2    18\n",
       "A37        Orphan's Court                    3    18\n",
       "A38        Sheriff's Office                  7   276\n",
       "A40        M-R Info Technology               6   367\n",
       "A41        DPW-Administration                7   221\n",
       "A44        M-R Cable & Comm                  2     7\n",
       "...                                        ...   ...\n",
       "A68        R&P-Parks                        11   204\n",
       "A70        DPW-Solid Waste                  18   572\n",
       "A73        Municipal & Zoning Appeal         1     9\n",
       "           Municipal & Zoning Appeals        1    14\n",
       "A75        Enoch Pratt Free Library         61   648\n",
       "A83        HR-Human Resources                8   104\n",
       "A84        TRANS-Towing                      4   101\n",
       "A85        General Services                  7   536\n",
       "A86        War Memorial Commission           1     4\n",
       "A88        COMP-Communication Ser            1    30\n",
       "           COMP-Communication Services       1    46\n",
       "A90        TRANS-Traffic                     7   340\n",
       "A91        M-R Convention Center             8   320\n",
       "A99        Police Department               142  4286\n",
       "B49        TRANS-Highways                   17   168\n",
       "B68        R&P-Parks                        10   125\n",
       "B70        DPW-Solid Waste                  28   554\n",
       "C90        TRANS-Cross Guard-S               1    30\n",
       "           TRANS-Cross Guard-Summer          1   121\n",
       "           TRANS-Crossing Guards             4   445\n",
       "D01        Dem                               1     5\n",
       "P04        R&P-Recreation                    3   877\n",
       "P83        HR-Test Monitor                   2    21\n",
       "R01        Rep                               1     5\n",
       "SCS        Special City Services             2     6\n",
       "W02        Youth Summer                     51  3387\n",
       "           Youth Summer                    335  1504\n",
       "W03        Youth Cust                        2    34\n",
       "W07        Youth Temp Adult                  3    72\n",
       "W08        TANF Cust                         1    50\n",
       "\n",
       "[73 rows x 2 columns]"
      ]
     },
     "execution_count": 25,
     "metadata": {},
     "output_type": "execute_result"
    }
   ],
   "source": [
    "data.pivot_table(index=['AgencyCode', 'AgencyCat'], aggfunc=pd.Series.nunique, values=['Agency','Name'])"
   ]
  },
  {
   "cell_type": "markdown",
   "metadata": {},
   "source": [
    "### First/Last Name, MI and Suffix"
   ]
  },
  {
   "cell_type": "code",
   "execution_count": 20,
   "metadata": {
    "collapsed": false
   },
   "outputs": [
    {
     "ename": "KeyboardInterrupt",
     "evalue": "",
     "output_type": "error",
     "traceback": [
      "\u001b[0;31m---------------------------------------------------------------------------\u001b[0m",
      "\u001b[0;31mKeyboardInterrupt\u001b[0m                         Traceback (most recent call last)",
      "\u001b[0;32m<ipython-input-20-7f2e1e4fb1be>\u001b[0m in \u001b[0;36m<module>\u001b[0;34m()\u001b[0m\n\u001b[0;32m----> 1\u001b[0;31m \u001b[0mdata\u001b[0m\u001b[0;34m.\u001b[0m\u001b[0mto_clipboard\u001b[0m\u001b[0;34m(\u001b[0m\u001b[0;34m)\u001b[0m\u001b[0;34m\u001b[0m\u001b[0m\n\u001b[0m",
      "\u001b[0;32m/Users/dcastile/miniconda2/lib/python2.7/site-packages/pandas/core/generic.pyc\u001b[0m in \u001b[0;36mto_clipboard\u001b[0;34m(self, excel, sep, **kwargs)\u001b[0m\n\u001b[1;32m   1200\u001b[0m         \"\"\"\n\u001b[1;32m   1201\u001b[0m         \u001b[0;32mfrom\u001b[0m \u001b[0mpandas\u001b[0m\u001b[0;34m.\u001b[0m\u001b[0mio\u001b[0m \u001b[0;32mimport\u001b[0m \u001b[0mclipboard\u001b[0m\u001b[0;34m\u001b[0m\u001b[0m\n\u001b[0;32m-> 1202\u001b[0;31m         \u001b[0mclipboard\u001b[0m\u001b[0;34m.\u001b[0m\u001b[0mto_clipboard\u001b[0m\u001b[0;34m(\u001b[0m\u001b[0mself\u001b[0m\u001b[0;34m,\u001b[0m \u001b[0mexcel\u001b[0m\u001b[0;34m=\u001b[0m\u001b[0mexcel\u001b[0m\u001b[0;34m,\u001b[0m \u001b[0msep\u001b[0m\u001b[0;34m=\u001b[0m\u001b[0msep\u001b[0m\u001b[0;34m,\u001b[0m \u001b[0;34m**\u001b[0m\u001b[0mkwargs\u001b[0m\u001b[0;34m)\u001b[0m\u001b[0;34m\u001b[0m\u001b[0m\n\u001b[0m\u001b[1;32m   1203\u001b[0m \u001b[0;34m\u001b[0m\u001b[0m\n\u001b[1;32m   1204\u001b[0m     \u001b[0;32mdef\u001b[0m \u001b[0mto_xarray\u001b[0m\u001b[0;34m(\u001b[0m\u001b[0mself\u001b[0m\u001b[0;34m)\u001b[0m\u001b[0;34m:\u001b[0m\u001b[0;34m\u001b[0m\u001b[0m\n",
      "\u001b[0;32m/Users/dcastile/miniconda2/lib/python2.7/site-packages/pandas/io/clipboard.pyc\u001b[0m in \u001b[0;36mto_clipboard\u001b[0;34m(obj, excel, sep, **kwargs)\u001b[0m\n\u001b[1;32m     93\u001b[0m         \u001b[0;31m# str(df) has various unhelpful defaults, like truncation\u001b[0m\u001b[0;34m\u001b[0m\u001b[0;34m\u001b[0m\u001b[0m\n\u001b[1;32m     94\u001b[0m         \u001b[0;32mwith\u001b[0m \u001b[0moption_context\u001b[0m\u001b[0;34m(\u001b[0m\u001b[0;34m'display.max_colwidth'\u001b[0m\u001b[0;34m,\u001b[0m \u001b[0;36m999999\u001b[0m\u001b[0;34m)\u001b[0m\u001b[0;34m:\u001b[0m\u001b[0;34m\u001b[0m\u001b[0m\n\u001b[0;32m---> 95\u001b[0;31m             \u001b[0mobjstr\u001b[0m \u001b[0;34m=\u001b[0m \u001b[0mobj\u001b[0m\u001b[0;34m.\u001b[0m\u001b[0mto_string\u001b[0m\u001b[0;34m(\u001b[0m\u001b[0;34m**\u001b[0m\u001b[0mkwargs\u001b[0m\u001b[0;34m)\u001b[0m\u001b[0;34m\u001b[0m\u001b[0m\n\u001b[0m\u001b[1;32m     96\u001b[0m     \u001b[0;32melse\u001b[0m\u001b[0;34m:\u001b[0m\u001b[0;34m\u001b[0m\u001b[0m\n\u001b[1;32m     97\u001b[0m         \u001b[0mobjstr\u001b[0m \u001b[0;34m=\u001b[0m \u001b[0mstr\u001b[0m\u001b[0;34m(\u001b[0m\u001b[0mobj\u001b[0m\u001b[0;34m)\u001b[0m\u001b[0;34m\u001b[0m\u001b[0m\n",
      "\u001b[0;32m/Users/dcastile/miniconda2/lib/python2.7/site-packages/pandas/core/frame.pyc\u001b[0m in \u001b[0;36mto_string\u001b[0;34m(self, buf, columns, col_space, header, index, na_rep, formatters, float_format, sparsify, index_names, justify, line_width, max_rows, max_cols, show_dimensions)\u001b[0m\n\u001b[1;32m   1486\u001b[0m                                            \u001b[0mmax_cols\u001b[0m\u001b[0;34m=\u001b[0m\u001b[0mmax_cols\u001b[0m\u001b[0;34m,\u001b[0m\u001b[0;34m\u001b[0m\u001b[0m\n\u001b[1;32m   1487\u001b[0m                                            show_dimensions=show_dimensions)\n\u001b[0;32m-> 1488\u001b[0;31m         \u001b[0mformatter\u001b[0m\u001b[0;34m.\u001b[0m\u001b[0mto_string\u001b[0m\u001b[0;34m(\u001b[0m\u001b[0;34m)\u001b[0m\u001b[0;34m\u001b[0m\u001b[0m\n\u001b[0m\u001b[1;32m   1489\u001b[0m \u001b[0;34m\u001b[0m\u001b[0m\n\u001b[1;32m   1490\u001b[0m         \u001b[0;32mif\u001b[0m \u001b[0mbuf\u001b[0m \u001b[0;32mis\u001b[0m \u001b[0mNone\u001b[0m\u001b[0;34m:\u001b[0m\u001b[0;34m\u001b[0m\u001b[0m\n",
      "\u001b[0;32m/Users/dcastile/miniconda2/lib/python2.7/site-packages/pandas/formats/format.pyc\u001b[0m in \u001b[0;36mto_string\u001b[0;34m(self)\u001b[0m\n\u001b[1;32m    589\u001b[0m         \u001b[0;32mif\u001b[0m \u001b[0;32mnot\u001b[0m \u001b[0mself\u001b[0m\u001b[0;34m.\u001b[0m\u001b[0mindex\u001b[0m\u001b[0;34m:\u001b[0m\u001b[0;34m\u001b[0m\u001b[0m\n\u001b[1;32m    590\u001b[0m             \u001b[0mtext\u001b[0m \u001b[0;34m=\u001b[0m \u001b[0mtext\u001b[0m\u001b[0;34m.\u001b[0m\u001b[0mreplace\u001b[0m\u001b[0;34m(\u001b[0m\u001b[0;34m'\\n '\u001b[0m\u001b[0;34m,\u001b[0m \u001b[0;34m'\\n'\u001b[0m\u001b[0;34m)\u001b[0m\u001b[0;34m.\u001b[0m\u001b[0mstrip\u001b[0m\u001b[0;34m(\u001b[0m\u001b[0;34m)\u001b[0m\u001b[0;34m\u001b[0m\u001b[0m\n\u001b[0;32m--> 591\u001b[0;31m         \u001b[0mself\u001b[0m\u001b[0;34m.\u001b[0m\u001b[0mbuf\u001b[0m\u001b[0;34m.\u001b[0m\u001b[0mwritelines\u001b[0m\u001b[0;34m(\u001b[0m\u001b[0mtext\u001b[0m\u001b[0;34m)\u001b[0m\u001b[0;34m\u001b[0m\u001b[0m\n\u001b[0m\u001b[1;32m    592\u001b[0m \u001b[0;34m\u001b[0m\u001b[0m\n\u001b[1;32m    593\u001b[0m         \u001b[0;32mif\u001b[0m \u001b[0mself\u001b[0m\u001b[0;34m.\u001b[0m\u001b[0mshould_show_dimensions\u001b[0m\u001b[0;34m:\u001b[0m\u001b[0;34m\u001b[0m\u001b[0m\n",
      "\u001b[0;32m/Users/dcastile/miniconda2/lib/python2.7/StringIO.pyc\u001b[0m in \u001b[0;36mwritelines\u001b[0;34m(self, iterable)\u001b[0m\n\u001b[1;32m    249\u001b[0m         \u001b[0mwrite\u001b[0m \u001b[0;34m=\u001b[0m \u001b[0mself\u001b[0m\u001b[0;34m.\u001b[0m\u001b[0mwrite\u001b[0m\u001b[0;34m\u001b[0m\u001b[0m\n\u001b[1;32m    250\u001b[0m         \u001b[0;32mfor\u001b[0m \u001b[0mline\u001b[0m \u001b[0;32min\u001b[0m \u001b[0miterable\u001b[0m\u001b[0;34m:\u001b[0m\u001b[0;34m\u001b[0m\u001b[0m\n\u001b[0;32m--> 251\u001b[0;31m             \u001b[0mwrite\u001b[0m\u001b[0;34m(\u001b[0m\u001b[0mline\u001b[0m\u001b[0;34m)\u001b[0m\u001b[0;34m\u001b[0m\u001b[0m\n\u001b[0m\u001b[1;32m    252\u001b[0m \u001b[0;34m\u001b[0m\u001b[0m\n\u001b[1;32m    253\u001b[0m     \u001b[0;32mdef\u001b[0m \u001b[0mflush\u001b[0m\u001b[0;34m(\u001b[0m\u001b[0mself\u001b[0m\u001b[0;34m)\u001b[0m\u001b[0;34m:\u001b[0m\u001b[0;34m\u001b[0m\u001b[0m\n",
      "\u001b[0;32m/Users/dcastile/miniconda2/lib/python2.7/StringIO.pyc\u001b[0m in \u001b[0;36mwrite\u001b[0;34m(self, s)\u001b[0m\n\u001b[1;32m    220\u001b[0m         \u001b[0;32mif\u001b[0m \u001b[0mspos\u001b[0m \u001b[0;34m==\u001b[0m \u001b[0mslen\u001b[0m\u001b[0;34m:\u001b[0m\u001b[0;34m\u001b[0m\u001b[0m\n\u001b[1;32m    221\u001b[0m             \u001b[0mself\u001b[0m\u001b[0;34m.\u001b[0m\u001b[0mbuflist\u001b[0m\u001b[0;34m.\u001b[0m\u001b[0mappend\u001b[0m\u001b[0;34m(\u001b[0m\u001b[0ms\u001b[0m\u001b[0;34m)\u001b[0m\u001b[0;34m\u001b[0m\u001b[0m\n\u001b[0;32m--> 222\u001b[0;31m             \u001b[0mself\u001b[0m\u001b[0;34m.\u001b[0m\u001b[0mlen\u001b[0m \u001b[0;34m=\u001b[0m \u001b[0mself\u001b[0m\u001b[0;34m.\u001b[0m\u001b[0mpos\u001b[0m \u001b[0;34m=\u001b[0m \u001b[0mspos\u001b[0m \u001b[0;34m+\u001b[0m \u001b[0mlen\u001b[0m\u001b[0;34m(\u001b[0m\u001b[0ms\u001b[0m\u001b[0;34m)\u001b[0m\u001b[0;34m\u001b[0m\u001b[0m\n\u001b[0m\u001b[1;32m    223\u001b[0m             \u001b[0;32mreturn\u001b[0m\u001b[0;34m\u001b[0m\u001b[0m\n\u001b[1;32m    224\u001b[0m         \u001b[0;32mif\u001b[0m \u001b[0mspos\u001b[0m \u001b[0;34m>\u001b[0m \u001b[0mslen\u001b[0m\u001b[0;34m:\u001b[0m\u001b[0;34m\u001b[0m\u001b[0m\n",
      "\u001b[0;31mKeyboardInterrupt\u001b[0m: "
     ]
    }
   ],
   "source": [
    "data.to_clipboard()"
   ]
  },
  {
   "cell_type": "code",
   "execution_count": 21,
   "metadata": {
    "collapsed": false
   },
   "outputs": [
    {
     "ename": "IndexError",
     "evalue": "list index out of range",
     "output_type": "error",
     "traceback": [
      "\u001b[0;31m---------------------------------------------------------------------------\u001b[0m",
      "\u001b[0;31mIndexError\u001b[0m                                Traceback (most recent call last)",
      "\u001b[0;32m<ipython-input-21-5705ffe1fc36>\u001b[0m in \u001b[0;36m<module>\u001b[0;34m()\u001b[0m\n\u001b[1;32m      1\u001b[0m \u001b[0mx\u001b[0m \u001b[0;34m=\u001b[0m \u001b[0;32mlambda\u001b[0m \u001b[0mx\u001b[0m\u001b[0;34m:\u001b[0m \u001b[0mx\u001b[0m\u001b[0;34m.\u001b[0m\u001b[0msplit\u001b[0m\u001b[0;34m(\u001b[0m\u001b[0;34m','\u001b[0m\u001b[0;34m)\u001b[0m\u001b[0;34m[\u001b[0m\u001b[0;36m1\u001b[0m\u001b[0;34m]\u001b[0m\u001b[0;34m.\u001b[0m\u001b[0msplit\u001b[0m\u001b[0;34m(\u001b[0m\u001b[0;34m' '\u001b[0m\u001b[0;34m)\u001b[0m\u001b[0;34m[\u001b[0m\u001b[0;36m0\u001b[0m\u001b[0;34m]\u001b[0m\u001b[0;34m\u001b[0m\u001b[0m\n\u001b[0;32m----> 2\u001b[0;31m \u001b[0mdata\u001b[0m\u001b[0;34m[\u001b[0m\u001b[0;34m'FirstName'\u001b[0m\u001b[0;34m]\u001b[0m \u001b[0;34m=\u001b[0m \u001b[0mdata\u001b[0m\u001b[0;34m.\u001b[0m\u001b[0mName\u001b[0m\u001b[0;34m.\u001b[0m\u001b[0mapply\u001b[0m\u001b[0;34m(\u001b[0m\u001b[0mx\u001b[0m\u001b[0;34m)\u001b[0m\u001b[0;34m\u001b[0m\u001b[0m\n\u001b[0m\u001b[1;32m      3\u001b[0m \u001b[0;34m\u001b[0m\u001b[0m\n\u001b[1;32m      4\u001b[0m \u001b[0mx\u001b[0m \u001b[0;34m=\u001b[0m \u001b[0;32mlambda\u001b[0m \u001b[0mx\u001b[0m\u001b[0;34m:\u001b[0m \u001b[0mx\u001b[0m\u001b[0;34m.\u001b[0m\u001b[0msplit\u001b[0m\u001b[0;34m(\u001b[0m\u001b[0;34m','\u001b[0m\u001b[0;34m)\u001b[0m\u001b[0;34m[\u001b[0m\u001b[0;36m1\u001b[0m\u001b[0;34m]\u001b[0m\u001b[0;34m.\u001b[0m\u001b[0msplit\u001b[0m\u001b[0;34m(\u001b[0m\u001b[0;34m' '\u001b[0m\u001b[0;34m)\u001b[0m\u001b[0;34m[\u001b[0m\u001b[0;36m1\u001b[0m\u001b[0;34m]\u001b[0m \u001b[0;32mif\u001b[0m \u001b[0mlen\u001b[0m\u001b[0;34m(\u001b[0m\u001b[0mx\u001b[0m\u001b[0;34m.\u001b[0m\u001b[0msplit\u001b[0m\u001b[0;34m(\u001b[0m\u001b[0;34m','\u001b[0m\u001b[0;34m)\u001b[0m\u001b[0;34m[\u001b[0m\u001b[0;36m1\u001b[0m\u001b[0;34m]\u001b[0m\u001b[0;34m.\u001b[0m\u001b[0msplit\u001b[0m\u001b[0;34m(\u001b[0m\u001b[0;34m' '\u001b[0m\u001b[0;34m)\u001b[0m\u001b[0;34m)\u001b[0m \u001b[0;34m>\u001b[0m \u001b[0;36m1\u001b[0m \u001b[0;32melse\u001b[0m \u001b[0;34m''\u001b[0m\u001b[0;34m\u001b[0m\u001b[0m\n\u001b[1;32m      5\u001b[0m \u001b[0mdata\u001b[0m\u001b[0;34m[\u001b[0m\u001b[0;34m'MiddleInitial'\u001b[0m\u001b[0;34m]\u001b[0m \u001b[0;34m=\u001b[0m \u001b[0mdata\u001b[0m\u001b[0;34m.\u001b[0m\u001b[0mName\u001b[0m\u001b[0;34m.\u001b[0m\u001b[0mapply\u001b[0m\u001b[0;34m(\u001b[0m\u001b[0mx\u001b[0m\u001b[0;34m)\u001b[0m\u001b[0;34m\u001b[0m\u001b[0m\n",
      "\u001b[0;32m/Users/dcastile/miniconda2/lib/python2.7/site-packages/pandas/core/series.pyc\u001b[0m in \u001b[0;36mapply\u001b[0;34m(self, func, convert_dtype, args, **kwds)\u001b[0m\n\u001b[1;32m   2218\u001b[0m         \u001b[0;32melse\u001b[0m\u001b[0;34m:\u001b[0m\u001b[0;34m\u001b[0m\u001b[0m\n\u001b[1;32m   2219\u001b[0m             \u001b[0mvalues\u001b[0m \u001b[0;34m=\u001b[0m \u001b[0mself\u001b[0m\u001b[0;34m.\u001b[0m\u001b[0masobject\u001b[0m\u001b[0;34m\u001b[0m\u001b[0m\n\u001b[0;32m-> 2220\u001b[0;31m             \u001b[0mmapped\u001b[0m \u001b[0;34m=\u001b[0m \u001b[0mlib\u001b[0m\u001b[0;34m.\u001b[0m\u001b[0mmap_infer\u001b[0m\u001b[0;34m(\u001b[0m\u001b[0mvalues\u001b[0m\u001b[0;34m,\u001b[0m \u001b[0mf\u001b[0m\u001b[0;34m,\u001b[0m \u001b[0mconvert\u001b[0m\u001b[0;34m=\u001b[0m\u001b[0mconvert_dtype\u001b[0m\u001b[0;34m)\u001b[0m\u001b[0;34m\u001b[0m\u001b[0m\n\u001b[0m\u001b[1;32m   2221\u001b[0m \u001b[0;34m\u001b[0m\u001b[0m\n\u001b[1;32m   2222\u001b[0m         \u001b[0;32mif\u001b[0m \u001b[0mlen\u001b[0m\u001b[0;34m(\u001b[0m\u001b[0mmapped\u001b[0m\u001b[0;34m)\u001b[0m \u001b[0;32mand\u001b[0m \u001b[0misinstance\u001b[0m\u001b[0;34m(\u001b[0m\u001b[0mmapped\u001b[0m\u001b[0;34m[\u001b[0m\u001b[0;36m0\u001b[0m\u001b[0;34m]\u001b[0m\u001b[0;34m,\u001b[0m \u001b[0mSeries\u001b[0m\u001b[0;34m)\u001b[0m\u001b[0;34m:\u001b[0m\u001b[0;34m\u001b[0m\u001b[0m\n",
      "\u001b[0;32mpandas/src/inference.pyx\u001b[0m in \u001b[0;36mpandas.lib.map_infer (pandas/lib.c:62658)\u001b[0;34m()\u001b[0m\n",
      "\u001b[0;32m<ipython-input-21-5705ffe1fc36>\u001b[0m in \u001b[0;36m<lambda>\u001b[0;34m(x)\u001b[0m\n\u001b[0;32m----> 1\u001b[0;31m \u001b[0mx\u001b[0m \u001b[0;34m=\u001b[0m \u001b[0;32mlambda\u001b[0m \u001b[0mx\u001b[0m\u001b[0;34m:\u001b[0m \u001b[0mx\u001b[0m\u001b[0;34m.\u001b[0m\u001b[0msplit\u001b[0m\u001b[0;34m(\u001b[0m\u001b[0;34m','\u001b[0m\u001b[0;34m)\u001b[0m\u001b[0;34m[\u001b[0m\u001b[0;36m1\u001b[0m\u001b[0;34m]\u001b[0m\u001b[0;34m.\u001b[0m\u001b[0msplit\u001b[0m\u001b[0;34m(\u001b[0m\u001b[0;34m' '\u001b[0m\u001b[0;34m)\u001b[0m\u001b[0;34m[\u001b[0m\u001b[0;36m0\u001b[0m\u001b[0;34m]\u001b[0m\u001b[0;34m\u001b[0m\u001b[0m\n\u001b[0m\u001b[1;32m      2\u001b[0m \u001b[0mdata\u001b[0m\u001b[0;34m[\u001b[0m\u001b[0;34m'FirstName'\u001b[0m\u001b[0;34m]\u001b[0m \u001b[0;34m=\u001b[0m \u001b[0mdata\u001b[0m\u001b[0;34m.\u001b[0m\u001b[0mName\u001b[0m\u001b[0;34m.\u001b[0m\u001b[0mapply\u001b[0m\u001b[0;34m(\u001b[0m\u001b[0mx\u001b[0m\u001b[0;34m)\u001b[0m\u001b[0;34m\u001b[0m\u001b[0m\n\u001b[1;32m      3\u001b[0m \u001b[0;34m\u001b[0m\u001b[0m\n\u001b[1;32m      4\u001b[0m \u001b[0mx\u001b[0m \u001b[0;34m=\u001b[0m \u001b[0;32mlambda\u001b[0m \u001b[0mx\u001b[0m\u001b[0;34m:\u001b[0m \u001b[0mx\u001b[0m\u001b[0;34m.\u001b[0m\u001b[0msplit\u001b[0m\u001b[0;34m(\u001b[0m\u001b[0;34m','\u001b[0m\u001b[0;34m)\u001b[0m\u001b[0;34m[\u001b[0m\u001b[0;36m1\u001b[0m\u001b[0;34m]\u001b[0m\u001b[0;34m.\u001b[0m\u001b[0msplit\u001b[0m\u001b[0;34m(\u001b[0m\u001b[0;34m' '\u001b[0m\u001b[0;34m)\u001b[0m\u001b[0;34m[\u001b[0m\u001b[0;36m1\u001b[0m\u001b[0;34m]\u001b[0m \u001b[0;32mif\u001b[0m \u001b[0mlen\u001b[0m\u001b[0;34m(\u001b[0m\u001b[0mx\u001b[0m\u001b[0;34m.\u001b[0m\u001b[0msplit\u001b[0m\u001b[0;34m(\u001b[0m\u001b[0;34m','\u001b[0m\u001b[0;34m)\u001b[0m\u001b[0;34m[\u001b[0m\u001b[0;36m1\u001b[0m\u001b[0;34m]\u001b[0m\u001b[0;34m.\u001b[0m\u001b[0msplit\u001b[0m\u001b[0;34m(\u001b[0m\u001b[0;34m' '\u001b[0m\u001b[0;34m)\u001b[0m\u001b[0;34m)\u001b[0m \u001b[0;34m>\u001b[0m \u001b[0;36m1\u001b[0m \u001b[0;32melse\u001b[0m \u001b[0;34m''\u001b[0m\u001b[0;34m\u001b[0m\u001b[0m\n\u001b[1;32m      5\u001b[0m \u001b[0mdata\u001b[0m\u001b[0;34m[\u001b[0m\u001b[0;34m'MiddleInitial'\u001b[0m\u001b[0;34m]\u001b[0m \u001b[0;34m=\u001b[0m \u001b[0mdata\u001b[0m\u001b[0;34m.\u001b[0m\u001b[0mName\u001b[0m\u001b[0;34m.\u001b[0m\u001b[0mapply\u001b[0m\u001b[0;34m(\u001b[0m\u001b[0mx\u001b[0m\u001b[0;34m)\u001b[0m\u001b[0;34m\u001b[0m\u001b[0m\n",
      "\u001b[0;31mIndexError\u001b[0m: list index out of range"
     ]
    }
   ],
   "source": [
    "x = lambda x: x.split(',')[1].split(' ')[0]\n",
    "data['FirstName'] = data.Name.apply(x)\n",
    "\n",
    "x = lambda x: x.split(',')[1].split(' ')[1] if len(x.split(',')[1].split(' ')) > 1 else ''\n",
    "data['MiddleInitial'] = data.Name.apply(x)\n",
    "\n",
    "x = lambda x: x.split(',')[0]\n",
    "data['LastName'] = data.Name.apply(x)"
   ]
  },
  {
   "cell_type": "code",
   "execution_count": null,
   "metadata": {
    "collapsed": false
   },
   "outputs": [],
   "source": [
    "# LastName Sr's & Jr's account for 700+ employees, lets clean that up\n",
    "    #this is a naive selector.. (counter example Sriam)\n",
    "    # data[data['Name'].str.contains('Jr') | data['LastName'].str.contains('Sr')]\n",
    "\n",
    "# https://regex101.com/r/OIewK9/1\n",
    "# first we are pulling out the suffix into a new field\n",
    "x = lambda x: re.findall(r'[JS]r[\\.]?$', x)[0] if len(re.findall(r'[JS]r[\\.]?$', x)) > 0 else ''\n",
    "data['SuffixName'] = data.LastName.apply(x)\n",
    "\n",
    "# then we are replacing the instance inside of the Last name field\n",
    "x = lambda x: re.sub(r'[JS]r[\\.]?$', '', x)\n",
    "data.LastName = data.LastName.apply(x)"
   ]
  },
  {
   "cell_type": "markdown",
   "metadata": {},
   "source": [
    "### Wages and Approx. hours"
   ]
  },
  {
   "cell_type": "code",
   "execution_count": null,
   "metadata": {
    "collapsed": false
   },
   "outputs": [],
   "source": [
    "def salary_buckets(salary):\n",
    "    if salary > 150 * 10**3:\n",
    "        return '>150K'\n",
    "    elif salary > 125 * 10**3:\n",
    "        return '>125K'\n",
    "    elif salary > 100 * 10**3:\n",
    "        return '>100K'\n",
    "    elif salary > 75 * 10**3:\n",
    "        return '>75K'\n",
    "    elif salary > 50 * 10**3:\n",
    "        return '>50K'\n",
    "    elif salary > 25 * 10**3:\n",
    "        return '>25K'\n",
    "    else:\n",
    "        return '<25K'\n",
    "\n",
    "salary_bucket_order = ['<25K', '>25K', '>50K', '>75K', '>100K', '>125K', '>150K']    \n",
    "\n",
    "def salary_bucket_ranks(salary):\n",
    "    if salary > 150 * 10**3:\n",
    "        return 1\n",
    "    elif salary > 125 * 10**3:\n",
    "        return 2\n",
    "    elif salary > 100 * 10**3:\n",
    "        return 3\n",
    "    elif salary > 75 * 10**3:\n",
    "        return 4\n",
    "    elif salary > 50 * 10**3:\n",
    "        return 5\n",
    "    elif salary > 25 * 10**3:\n",
    "        return 7\n",
    "    else:\n",
    "        return 8"
   ]
  },
  {
   "cell_type": "code",
   "execution_count": null,
   "metadata": {
    "collapsed": true
   },
   "outputs": [],
   "source": [
    "data['AnnualSalaryBucket'] = data.AnnualSalaryFloat.apply(salary_buckets)\n",
    "data['AnnualSalaryBucketRank'] = data.AnnualSalaryFloat.apply(salary_bucket_ranks)\n",
    "\n",
    "data['GrossPayBucket'] = data.GrossPayFloat.apply(salary_buckets)\n",
    "data['GrossPayBucketRank'] = data.GrossPayFloat.apply(salary_bucket_ranks)"
   ]
  },
  {
   "cell_type": "code",
   "execution_count": null,
   "metadata": {
    "collapsed": true
   },
   "outputs": [],
   "source": [
    "# approximate hourly rate\n",
    "x = lambda x: x/2080\n",
    "data['ApproxHourlyRate'] = data.AnnualSalaryFloat.apply(x)"
   ]
  },
  {
   "cell_type": "code",
   "execution_count": null,
   "metadata": {
    "collapsed": true
   },
   "outputs": [],
   "source": [
    "# try to approximate hours worked\n",
    "# if GrossPay > AnnualSalary:\n",
    "#     2080 + (GrossPay - AnnualSalary) / (ApproxHourlyRate * 1.5)\n",
    "# else:\n",
    "#     (GrossPay / ApproxHourlyRate)\n",
    "\n",
    "def approx_hours_worked(row):\n",
    "    if row['GrossPayFloat'] > row['AnnualSalaryFloat']:\n",
    "        return 2080 + (row['GrossPayFloat'] - row['AnnualSalaryFloat']) / (row['ApproxHourlyRate'] * 1.5)\n",
    "    else:\n",
    "        return row['GrossPayFloat'] / row['ApproxHourlyRate']"
   ]
  },
  {
   "cell_type": "code",
   "execution_count": null,
   "metadata": {
    "collapsed": false
   },
   "outputs": [],
   "source": [
    "data['ApproxHoursWorked'] = data.apply(approx_hours_worked, axis=1)"
   ]
  },
  {
   "cell_type": "code",
   "execution_count": null,
   "metadata": {
    "collapsed": false
   },
   "outputs": [],
   "source": [
    "data['ApproxAvgWeeklyHours'] = data.ApproxHoursWorked / 52"
   ]
  },
  {
   "cell_type": "code",
   "execution_count": null,
   "metadata": {
    "collapsed": false
   },
   "outputs": [],
   "source": [
    "data.head()"
   ]
  },
  {
   "cell_type": "markdown",
   "metadata": {},
   "source": [
    "### Employee Type (FTE, PTE, Hourly, seasonal)"
   ]
  },
  {
   "cell_type": "code",
   "execution_count": null,
   "metadata": {
    "collapsed": true
   },
   "outputs": [],
   "source": [
    "# gotta initialize the column so values dont start as NaN\n",
    "data['EmployeeType'] = ''"
   ]
  },
  {
   "cell_type": "code",
   "execution_count": null,
   "metadata": {
    "collapsed": false
   },
   "outputs": [],
   "source": [
    "# sets employee type to 'Hourly' if JobTitle contains hourly\n",
    "data.loc[data.loc[:,'JobTitle'].str.contains('Hourly') == True, 'EmployeeType'] = 'Hourly'"
   ]
  },
  {
   "cell_type": "code",
   "execution_count": null,
   "metadata": {
    "collapsed": false
   },
   "outputs": [],
   "source": [
    "# sets employee type to 'Hourly' if Agency contains hourly\n",
    "data.loc[data.loc[:,'Agency'].str.contains('part-time') == True, 'EmployeeType'] = 'Part-Time'"
   ]
  },
  {
   "cell_type": "code",
   "execution_count": null,
   "metadata": {
    "collapsed": true
   },
   "outputs": [],
   "source": [
    "# sets employee type to 'Seasonal' if JobTitle contains seasonal\n",
    "data.loc[data.loc[:,'JobTitle'].str.contains('SEASONAL') == True, 'EmployeeType'] = 'Seasonal'"
   ]
  },
  {
   "cell_type": "code",
   "execution_count": null,
   "metadata": {
    "collapsed": false
   },
   "outputs": [],
   "source": [
    "# if employee type is blank assign 'Full-Time'\n",
    "x = lambda x: 'Full-Time' if x == '' else x\n",
    "data.EmployeeType = data.EmployeeType.apply(x)"
   ]
  },
  {
   "cell_type": "code",
   "execution_count": null,
   "metadata": {
    "collapsed": false
   },
   "outputs": [],
   "source": [
    "data.pivot_table(index='EmployeeType', aggfunc='mean')"
   ]
  },
  {
   "cell_type": "markdown",
   "metadata": {},
   "source": [
    "### Job Title level"
   ]
  },
  {
   "cell_type": "code",
   "execution_count": null,
   "metadata": {
    "collapsed": true
   },
   "outputs": [],
   "source": [
    "# creating a feature for the Level of the Job Title\n",
    "# r'I+$' looks for I one or more times at the end of the string\n",
    "x = lambda x: len(re.findall(r'I+$', x)[0]) if len(re.findall(r'I+$', x)) > 0 else 'NaN'\n",
    "data['JobTitleLevel'] = data.JobTitle.apply(x)"
   ]
  },
  {
   "cell_type": "code",
   "execution_count": null,
   "metadata": {
    "collapsed": false
   },
   "outputs": [],
   "source": [
    "data.pivot_table(index='JobTitleLevel', aggfunc='count')"
   ]
  },
  {
   "cell_type": "markdown",
   "metadata": {},
   "source": [
    "## Interesting data points"
   ]
  },
  {
   "cell_type": "code",
   "execution_count": null,
   "metadata": {
    "collapsed": false
   },
   "outputs": [],
   "source": [
    "data[data.AnnualSalaryBucketRank - data.GrossPayBucketRank > 2].head()"
   ]
  },
  {
   "cell_type": "code",
   "execution_count": null,
   "metadata": {
    "collapsed": false
   },
   "outputs": [],
   "source": [
    "data[data.TenureYears > 50]"
   ]
  },
  {
   "cell_type": "code",
   "execution_count": null,
   "metadata": {
    "collapsed": false
   },
   "outputs": [],
   "source": [
    "sns.stripplot(y='GrossPayBucket', x='ApproxAvgWeeklyHours', data= data, jitter=True,\n",
    "              order=salary_bucket_order, hue='AnnualSalaryBucket', \n",
    "              hue_order= salary_bucket_order, orient='h')"
   ]
  },
  {
   "cell_type": "code",
   "execution_count": null,
   "metadata": {
    "collapsed": false
   },
   "outputs": [],
   "source": [
    "data[data.ApproxAvgWeeklyHours < 10]"
   ]
  },
  {
   "cell_type": "code",
   "execution_count": null,
   "metadata": {
    "collapsed": false
   },
   "outputs": [],
   "source": [
    "sns.swarmplot(y='GrossPayBucket', x='ApproxAvgWeeklyHours', data= data, \n",
    "              order=salary_bucket_order, hue='AnnualSalaryBucket', \n",
    "              hue_order= salary_bucket_order, orient='h')"
   ]
  },
  {
   "cell_type": "code",
   "execution_count": null,
   "metadata": {
    "collapsed": true
   },
   "outputs": [],
   "source": []
  }
 ],
 "metadata": {
  "anaconda-cloud": {},
  "kernelspec": {
   "display_name": "Python [default]",
   "language": "python",
   "name": "python2"
  },
  "language_info": {
   "codemirror_mode": {
    "name": "ipython",
    "version": 2
   },
   "file_extension": ".py",
   "mimetype": "text/x-python",
   "name": "python",
   "nbconvert_exporter": "python",
   "pygments_lexer": "ipython2",
   "version": "2.7.12"
  }
 },
 "nbformat": 4,
 "nbformat_minor": 1
}
